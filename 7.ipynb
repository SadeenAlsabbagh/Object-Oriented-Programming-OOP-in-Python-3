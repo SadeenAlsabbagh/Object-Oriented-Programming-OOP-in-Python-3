{
 "cells": [
  {
   "cell_type": "code",
   "execution_count": null,
   "id": "adf76892",
   "metadata": {},
   "outputs": [],
   "source": [
    "loanAmount = int(input(\"What is the loan amount? \"))\n",
    "interestRate = float(input(\"What is the annual intrest rate? \"))\n",
    "years = int(input(\"Enter the number of years: \"))\n",
    "\n",
    "actualInterestRate = interestRate/12\n",
    "totalMonths = years * 12 \n",
    "monthlyPayment = loanAmount * actualInterestRate / (1-(1+actualInterestRate)** totalMonths)\n",
    "\n",
    "remaining = loanAmount\n",
    "totalintrest = 0\n",
    "totalPrinciple = 0 \n",
    "\n",
    "print(\"-----------\")\n",
    "print(\"Loan Amount: $ \", loanAmount)\n",
    "print(\"Intrest Rate: \", interestRate)\n",
    "print(\"Monthly Payment: $\", round(monthlyPayment, 2))\n",
    "print(\"Total Cost: $ \", round(monthlyPayment*years*12, 2))\n",
    "print(\"Ratio paid over Principle: \", round((monthlyPayment*years*12) - loanAmount)/ loanAmount*100, '%')\n",
    "print(\"-----------\")\n",
    "\n",
    "i=1\n",
    "j=1\n",
    "\n",
    "while j<= totalMonths: \n",
    "    toIntrest = remaining *actualInterestRate \n",
    "    toPrincipal = monthlyPayment - toIntrest\n",
    "    totalIntrest += toInterest \n",
    "    totalPrincipal += toPrincipal \n",
    "    \n",
    "    remaining -= (monthlyPayment - toInterest)\n",
    "    print(\"Monthly payment: \", round(monthlyPayment, 2), \" \", \"Principal Amount: \", round(toPrincipal, 2), \" \", \"Intrest Amount: \", round(toIntrest, 2), \" \", \"Amount left: \", round(remaining, 2))\n",
    "    \n",
    "    if remaining <= monthlyPayment: \n",
    "        monthlyPayment = remaning \n",
    "        toPrincipal = monthlyPayment \n",
    "        toIntrest = 0 \n",
    "        remaining -= monthlyPayment\n",
    "        \n",
    "        print(\"Monthly payment: \", round(monthlyPayment, 2), \" \", \"Principal Amount: \", round(toPrincipal, 2), \" \", \"Intrest Amount: \", round(toIntrest, 2), \" \", \"Amount left: \", round(remaining, 2))\n",
    "        \n",
    "        print(\"**** End of Year\", i, \"****\")\n",
    "        break\n",
    "    \n",
    "    if j%12 == 0: \n",
    "        print(\"****End of Year\", i, \"****\")\n",
    "        i += 1\n",
    "    j+=1 \n",
    "    "
   ]
  }
 ],
 "metadata": {
  "kernelspec": {
   "display_name": "Python 3",
   "language": "python",
   "name": "python3"
  },
  "language_info": {
   "codemirror_mode": {
    "name": "ipython",
    "version": 3
   },
   "file_extension": ".py",
   "mimetype": "text/x-python",
   "name": "python",
   "nbconvert_exporter": "python",
   "pygments_lexer": "ipython3",
   "version": "3.8.8"
  }
 },
 "nbformat": 4,
 "nbformat_minor": 5
}
