{
 "cells": [
  {
   "cell_type": "code",
   "execution_count": null,
   "id": "853d509b",
   "metadata": {},
   "outputs": [],
   "source": [
    "# functions used for a list\n",
    "\n",
    "\n",
    "lucky_numbers = [4, 8, 15, 14, 56, 87]\n",
    "friends = [\"sam\", \"chris\",\"chris\", \"abd\", \"tra\"]\n",
    "\n",
    "friends.sort() #sort the list in an alphpatic order \n",
    "print(friends.count(\"chris\")) # to count how many times an item is listed \n",
    "print(friends.index (\"chris\")) #gives the index position for one of the items\n",
    "friends.pop() #remove the last item inside the list from only the list listed \n",
    "friends.remove(\"abd\") #to remove an item from a list and in order to remove the whole list, you do friends.clear() # remove the whole list \n",
    "friends.insert(1, \"tee\")#teo parameters, one is the index position and two is the item wanted to be added \n",
    "friends.append(\"creed\") #adding an item to the list, adds to the end of the list \n",
    "friends.extend(lucky_numbers) #add two lists together \n",
    "print(friends)"
   ]
  },
  {
   "cell_type": "code",
   "execution_count": 26,
   "id": "dd5664e0",
   "metadata": {},
   "outputs": [
    {
     "name": "stdout",
     "output_type": "stream",
     "text": [
      "Sadeen\n",
      "Jiwan\n",
      "['Monyati', 'Rabie', 'Jiwan', 'Revana']\n",
      "['Monyati', 'Rabie']\n",
      "Sarah\n"
     ]
    }
   ],
   "source": [
    "# access elemtns and items in a list \n",
    "friends = [\"Sadeen\", \"Monyati\", \"Rabie\", \"Jiwan\", \"Revana\"]\n",
    "            #0         #1         #2        #3         #4 #these are the index positions starting from the left to the right\n",
    "            #-5        #-4        #-3       #-2        #-1 #these are the index positions starting from the right to the left \n",
    "print(friends[0]) #access elements/items based off the index \n",
    "print(friends[-2])\n",
    "print(friends[1:])#items starting from 1 and whats beyond that \n",
    "print(friends[1:3]) #all (ranging items) items from 1 up to 2 \n",
    "\n",
    "# modisy elements and items in a list \n",
    "friends[1]= \"Sarah\"\n",
    "print(friends[1])"
   ]
  },
  {
   "cell_type": "markdown",
   "id": "0c192fce",
   "metadata": {},
   "source": [
    "# Tuples"
   ]
  },
  {
   "cell_type": "code",
   "execution_count": 31,
   "id": "9ba4ee44",
   "metadata": {},
   "outputs": [
    {
     "name": "stdout",
     "output_type": "stream",
     "text": [
      "4\n"
     ]
    }
   ],
   "source": [
    "# is a data structure, a container where values can be stored. \n",
    "\n",
    "coordinates = (4, 5)\n",
    "#tuple with coordinates inside,  tuples are immutable: the tuple can be changed and modofied unlike a list.  \n",
    "# for a list, we can use [] instead of ()\n",
    "# tuples are used for data that does not change\n",
    "\n",
    "print(coordinates [0]) #priting using the indiex position \n",
    "\n"
   ]
  },
  {
   "cell_type": "code",
   "execution_count": 33,
   "id": "a867b963",
   "metadata": {},
   "outputs": [
    {
     "name": "stdout",
     "output_type": "stream",
     "text": [
      "(4, 5)\n"
     ]
    }
   ],
   "source": [
    "coordinates = [(4, 5), (6,7), (9,10)]\n",
    "print(coordinates [0]) #priting using the indiex position \n",
    "# in case of a list, the index positioning is different and that is because the whole coordinate combination is thought of as one index \n"
   ]
  },
  {
   "cell_type": "markdown",
   "id": "1381b4de",
   "metadata": {},
   "source": [
    "# Functions "
   ]
  },
  {
   "cell_type": "code",
   "execution_count": 37,
   "id": "4c7ba948",
   "metadata": {},
   "outputs": [
    {
     "name": "stdout",
     "output_type": "stream",
     "text": [
      "Top\n",
      "Hello User\n",
      "Bottom\n"
     ]
    }
   ],
   "source": [
    "def say_hi(): \n",
    "    print(\"Hello User\")\n",
    "print(\"Top\")\n",
    "say_hi()\n",
    "print(\"Bottom\")\n",
    "\n",
    "#executing the first function, then goes to the line of the function then the last function "
   ]
  },
  {
   "cell_type": "markdown",
   "id": "3bbf9bf2",
   "metadata": {},
   "source": [
    "# Function Parameters "
   ]
  },
  {
   "cell_type": "code",
   "execution_count": 49,
   "id": "41926dd1",
   "metadata": {},
   "outputs": [
    {
     "name": "stdout",
     "output_type": "stream",
     "text": [
      "Hello Sadeen, you are 35\n",
      "Hello Ali, you are 37\n",
      "Hello Sadeen, you are 35\n",
      "Hello Ali, you are 37\n"
     ]
    }
   ],
   "source": [
    "#parameters are pieces of info that are passed within a function \n",
    "def sayhi(name, age): #we have two parameters age and name  \n",
    "    print(\"Hello\" + name + \", you are\" + age)\n",
    "    \n",
    "sayhi(\" Sadeen\", \" 35\")\n",
    "sayhi(\" Ali\", \" 37\")\n",
    "\n",
    "\n",
    "def sayhi(name, age): #we have two parameters age and name  \n",
    "    print(\"Hello\" + name + \", you are \" +  str(age)) #making the age as integers \n",
    "    \n",
    "sayhi(\" Sadeen\",35)\n",
    "sayhi(\" Ali\",37)\n"
   ]
  },
  {
   "cell_type": "markdown",
   "id": "f05e3426",
   "metadata": {},
   "source": [
    "# Return Statement"
   ]
  },
  {
   "cell_type": "code",
   "execution_count": 10,
   "id": "96423642",
   "metadata": {},
   "outputs": [
    {
     "name": "stdout",
     "output_type": "stream",
     "text": [
      "64\n"
     ]
    }
   ],
   "source": [
    "def cube(num): \n",
    "    return num*num*num #gives a value back to what the function calls\n",
    "    \n",
    "cube(3)\n",
    "\n",
    "\n",
    "def cube(num): \n",
    "    return num*num*num #gives a value back to what the function calls\n",
    "\n",
    "result = cube(4)\n",
    "print(result)\n",
    "\n",
    "#when there is a return keyword, it breaks out the code and only returns to the values for return. "
   ]
  },
  {
   "cell_type": "markdown",
   "id": "aba2efc1",
   "metadata": {},
   "source": [
    "# If Statements "
   ]
  },
  {
   "cell_type": "code",
   "execution_count": 19,
   "id": "a741bb5a",
   "metadata": {},
   "outputs": [
    {
     "name": "stdout",
     "output_type": "stream",
     "text": [
      "You are a male\n",
      "You are a male or tall both\n"
     ]
    }
   ],
   "source": [
    "is_male= True \n",
    "\n",
    "if is_male: #what goes after if must be something that is true of false \n",
    "    print(\"You are a male\") #prints out because it is true\n",
    "    \n",
    "else: \n",
    "    print(\"You are not a male\")\n",
    "    \n",
    "    \n",
    "is_male= True \n",
    "is_tall = False  \n",
    "\n",
    "if is_male or is_tall: #what goes after if must be something that is true of false # you can be experimnetal with the and and\n",
    "# or condiiton. \n",
    "    print(\"You are a male or tall both\") #prints out because it is true\n",
    "elif is_male and not (is_tall): # to check whether they are male and not tall \n",
    "    print (\" You are a short male\")\n",
    "elif not is_male and is_tall: #to check whether they are not a male and tall \n",
    "    print(\"You are not a male and tall\")\n",
    "    \n",
    "    \n",
    "else: \n",
    "    print(\"You are neither a male nor tall\")\n",
    "    \n",
    "    "
   ]
  },
  {
   "cell_type": "markdown",
   "id": "1503f9e6",
   "metadata": {},
   "source": [
    "# Advanced If statemnt "
   ]
  },
  {
   "cell_type": "code",
   "execution_count": 22,
   "id": "384b718f",
   "metadata": {},
   "outputs": [
    {
     "name": "stdout",
     "output_type": "stream",
     "text": [
      "5\n"
     ]
    }
   ],
   "source": [
    "def max_num(num1, num2, num3): \n",
    "    if num1>= num2 and num1>= num3: #getting a true and false by using the compasrsion operator\n",
    "        return num1\n",
    "    elif num2>= num1 and num2>=num3: \n",
    "        return num2\n",
    "    else: \n",
    "        return num3 # instead of making them numbers, we can compare strings as well\n",
    "    \n",
    "print(max_num(3,4,5))        "
   ]
  },
  {
   "cell_type": "markdown",
   "id": "db56a466",
   "metadata": {},
   "source": [
    "# Advanced Calculator"
   ]
  },
  {
   "cell_type": "code",
   "execution_count": null,
   "id": "7d711ae6",
   "metadata": {},
   "outputs": [],
   "source": [
    "num1 = float(input (\"Enter first number: \"))\n",
    "op = input (\"Enter Operator: \") #which could be + - or /\n",
    "num2 = float(input (\"Enter second number: \"))\n",
    "\n",
    "if op== \"+\": \n",
    "    print(num1 + num2)\n",
    "elif op== \"-\": \n",
    "    print(num1 - num2)\n",
    "elif op== \"/\": \n",
    "    print(num1 / num2)\n",
    "elif op== \"*\": \n",
    "    print(num1 * num2)\n",
    "else: \n",
    "    print(\"Invalid operator\") \n",
    "    \n",
    "\n",
    "\n"
   ]
  },
  {
   "cell_type": "markdown",
   "id": "fd431395",
   "metadata": {},
   "source": [
    "# Reading Files"
   ]
  },
  {
   "cell_type": "code",
   "execution_count": 6,
   "id": "22dfdd1e",
   "metadata": {},
   "outputs": [
    {
     "ename": "SyntaxError",
     "evalue": "EOL while scanning string literal (<ipython-input-6-daaf9a4350f7>, line 8)",
     "output_type": "error",
     "traceback": [
      "\u001b[1;36m  File \u001b[1;32m\"<ipython-input-6-daaf9a4350f7>\"\u001b[1;36m, line \u001b[1;32m8\u001b[0m\n\u001b[1;33m    print(x.read'())\u001b[0m\n\u001b[1;37m                    ^\u001b[0m\n\u001b[1;31mSyntaxError\u001b[0m\u001b[1;31m:\u001b[0m EOL while scanning string literal\n"
     ]
    }
   ],
   "source": [
    "x = open (r'C:\\Users\\Help\\Desktop\\textfile.txt','r')\n",
    "# r is for reading, w is for writing, and a is for adding new information \n",
    "# r+ is for reading and writing \n",
    "\n",
    "x = open (r'C:\\Users\\Help\\Desktop\\textfile.txt','r')\n",
    "print(x.readable())\n",
    "#this is to check whether the open command is for read or not, if for read, it gives true if not it gives false \n",
    "\n",
    "x = open (r'C:\\Users\\Help\\Desktop\\textfile.txt','r')\n",
    "print(x.read'())\n",
    "#this just reads what is in the file \n",
    "\n",
    "\n",
    "x = open (r'C:\\Users\\Help\\Desktop\\textfile.txt','r')\n",
    "print(x.readline'())\n",
    "print(x.readline'())\n",
    "print(x.readline'())# this allows the code to read the line by order: 1,2,3 \n",
    "      \n",
    "\n",
    "x = open (r'C:\\Users\\Help\\Desktop\\textfile.txt','r')\n",
    "#when we have a bigger file \n",
    "print(x.readlines'()) #this will take all of what is inside the file and wil put it in a list \n",
    "print(x.readlines'()[1]) \n",
    "#this will take all of what is inside the file and wil put it in a list with a spesofoced index position \n",
    "      \n",
    "\n",
    "for family member in x:\n",
    "      print(family member) #to read what is in the file by characterizing what is in it\n",
    "\n",
    "family_textfile.close()\n",
    "      \n",
    "      \n",
    "      \n",
    "x = open(r'C:\\Users\\Help\\Desktop\\textfile.txt','r')\n",
    "for y in x.readlines():\n",
    "    print(y)\n",
    "x.close()\n",
    "\n",
    "\n",
    "x = open(r'C:\\Users\\Help\\Desktop\\textfile.txt','w')\n",
    "x.write('sriman' + \"\\n\")\n",
    "x.close()\n",
    "\n",
    "x = open(r'C:\\Users\\Help\\Desktop\\textfile.txt','a')\n",
    "x.write('sriman' + \"\\n\")\n",
    "x.close()\n",
    "\n",
    "\n"
   ]
  },
  {
   "cell_type": "markdown",
   "id": "7d3b1b24",
   "metadata": {},
   "source": [
    "# Writing in File "
   ]
  },
  {
   "cell_type": "code",
   "execution_count": 10,
   "id": "bb6f6856",
   "metadata": {},
   "outputs": [],
   "source": [
    "# writing and appending in files \n",
    "\n",
    "x=open(r'C:\\Users\\Help\\Desktop\\textfile.txt','a')\n",
    "#using w instead of a, it will just write (clears everything and write that one line only) + creates a new file\n",
    "#to create a we page you open html \n",
    "x.write(\"Rabie - Medication factory\") #appends to the end of the list, on the last line \n",
    "x.write(\"\\nAloshi - Music Production\") #appends to the end of the list, on the last line \n",
    "\n",
    "\n",
    "x.close()\n",
    "\n",
    "\n"
   ]
  },
  {
   "cell_type": "markdown",
   "id": "ac2dcd0d",
   "metadata": {},
   "source": [
    "# Lists"
   ]
  },
  {
   "cell_type": "code",
   "execution_count": 27,
   "id": "89aee4c7",
   "metadata": {},
   "outputs": [
    {
     "name": "stdout",
     "output_type": "stream",
     "text": [
      "9\n",
      "['History', 'Math', 'Physics', 'Humanties', 'CompSi', 'Art', ['Art', 'Education'], 'Art', 'Education']\n",
      "History\n",
      "['History', 'Math']\n",
      "5\n",
      "True\n",
      "History\n",
      "Math\n",
      "Physics\n",
      "Humanties\n",
      "CompSi\n",
      "Art\n",
      "['Art', 'Education']\n",
      "Art\n",
      "Education\n",
      "<built-in method pop of list object at 0x000001D8F1007040>\n"
     ]
    },
    {
     "ename": "AttributeError",
     "evalue": "'list' object has no attribute 'revers'",
     "output_type": "error",
     "traceback": [
      "\u001b[1;31m---------------------------------------------------------------------------\u001b[0m",
      "\u001b[1;31mAttributeError\u001b[0m                            Traceback (most recent call last)",
      "\u001b[1;32m<ipython-input-27-0c5d5aaf1515>\u001b[0m in \u001b[0;36m<module>\u001b[1;34m\u001b[0m\n\u001b[0;32m     36\u001b[0m \u001b[1;33m\u001b[0m\u001b[0m\n\u001b[0;32m     37\u001b[0m \u001b[1;31m#to sort the list\u001b[0m\u001b[1;33m\u001b[0m\u001b[1;33m\u001b[0m\u001b[1;33m\u001b[0m\u001b[0m\n\u001b[1;32m---> 38\u001b[1;33m \u001b[0mcourses\u001b[0m\u001b[1;33m.\u001b[0m\u001b[0mrevers\u001b[0m\u001b[1;33m(\u001b[0m\u001b[1;33m)\u001b[0m \u001b[1;31m#prints out the courses but reversed\u001b[0m\u001b[1;33m\u001b[0m\u001b[1;33m\u001b[0m\u001b[0m\n\u001b[0m\u001b[0;32m     39\u001b[0m \u001b[0mcourses\u001b[0m\u001b[1;33m.\u001b[0m\u001b[0msort\u001b[0m\u001b[1;33m(\u001b[0m\u001b[1;33m)\u001b[0m \u001b[1;31m#sorts the list in alphpatic order and if it was intgers and we would like to sort them by an ascending order\u001b[0m\u001b[1;33m\u001b[0m\u001b[1;33m\u001b[0m\u001b[0m\n\u001b[0;32m     40\u001b[0m \u001b[1;31m#we just use the sort funcion// if we want it descending, that is done by sorting the list and then reversing.\u001b[0m\u001b[1;33m\u001b[0m\u001b[1;33m\u001b[0m\u001b[1;33m\u001b[0m\u001b[0m\n",
      "\u001b[1;31mAttributeError\u001b[0m: 'list' object has no attribute 'revers'"
     ]
    }
   ],
   "source": [
    "courses = ['History', 'Math', 'Physics', 'CompSi']\n",
    "courses.append('Art') #to add an item to a list, but needs to be right after the list \n",
    "courses.insert(3, 'Humanties') #to insert the value at a certain index position \n",
    "\n",
    "courses_2= ['Art', 'Education'] # to add a whole list to the orginal list\n",
    "courses.insert(9, courses_2) # the number is the location we would like the addition to be at\n",
    "\n",
    "courses.extend(courses_2)#to add a new set of items from a list to another one, without having the square brackets\n",
    "\n",
    "\n",
    "\n",
    "print(len(courses)) #the len gives a number of how many sets within a list \n",
    "print(courses)\n",
    "print(courses[0]) #to access cetain items within a list using the indexes of o,1,2,3, -1,-2, -3, -4 \n",
    "\n",
    "print(courses[0:2]) #starting with a range that starts at index 0 and ends at 2 not including the value of the index 2 \n",
    "\n",
    "print(courses.index('Art')) #to find the index of a vlaue \n",
    "\n",
    "print ('Art' in courses) #to chech if an item is in the list(you get a false or a true)\n",
    "\n",
    "\n",
    "for item in courses: \n",
    "    print (item) #by default, the code goes to a new line to continue the for loop \n",
    "    \n",
    "    \n",
    "    \n",
    "#to remove values from a lits \n",
    "courses.remove('Math')\n",
    " #remove the last value from a list \n",
    "courses.pop()\n",
    "\n",
    "#to keep popping and removing values from the end of the list \n",
    "popped = courses.pop\n",
    "print(popped) # and it goes on until nothing stays in the list \n",
    "\n",
    "#to sort the list \n",
    "courses.revers() #prints out the courses but reversed \n",
    "courses.sort() #sorts the list in alphpatic order and if it was intgers and we would like to sort them by an ascending order \n",
    "#we just use the sort funcion// if we want it descending, that is done by sorting the list and then reversing. \n",
    "#OR\n",
    "\n",
    "nums.sort(reverse=True)\n",
    "\n",
    "sorted_courses = sorted(courses)\n",
    "\n",
    "\n",
    "numbers= [2,4,7,9,6]\n",
    "print(max(numbers))\n",
    "print(min(numbers))\n",
    "print(sum(numbers))\n"
   ]
  },
  {
   "cell_type": "markdown",
   "id": "4991836d",
   "metadata": {},
   "source": [
    "# more about lists "
   ]
  },
  {
   "cell_type": "code",
   "execution_count": 32,
   "id": "2055f430",
   "metadata": {},
   "outputs": [
    {
     "name": "stdout",
     "output_type": "stream",
     "text": [
      "History-Math-Physics-ComSci\n",
      "['History', 'Math', 'Physics', 'ComSci']\n"
     ]
    }
   ],
   "source": [
    "courses = ['History', 'Math', 'Physics', 'ComSci']\n",
    "courses_str = ','.join(courses) #to print the list in a format that is more neutral \n",
    "courses_str = '-'.join(courses) #to print the list in a format that is more neutral,  seperating the items by - \n",
    "\n",
    "print(courses_str)\n",
    "\n",
    "\n",
    "new_list= courses_str.split('-')\n",
    "print(new_list) #another way to quickly split the items within a list \n"
   ]
  },
  {
   "cell_type": "markdown",
   "id": "d61aeb50",
   "metadata": {},
   "source": [
    "# Tuples"
   ]
  },
  {
   "cell_type": "code",
   "execution_count": 33,
   "id": "c87275e0",
   "metadata": {},
   "outputs": [],
   "source": [
    "#tuples cannot be modified, immutuable\n",
    "list_1= ('History', 'Math', 'Physics', 'CompSci') #we use notmal perantheses for tuples instead of the square brackets \n",
    "list_2=list_1\n",
    "\n",
    "#we cannot append the tuple "
   ]
  },
  {
   "cell_type": "markdown",
   "id": "5161d01a",
   "metadata": {},
   "source": [
    "# File Objects "
   ]
  },
  {
   "cell_type": "code",
   "execution_count": 34,
   "id": "642187bf",
   "metadata": {},
   "outputs": [
    {
     "name": "stdout",
     "output_type": "stream",
     "text": [
      "C:\\Users\\Help\\Desktop\\textfile.txt\n",
      "r\n",
      "False\n"
     ]
    }
   ],
   "source": [
    "f = open(r'C:\\Users\\Help\\Desktop\\textfile.txt','r') #if you open the file, you should close it\n",
    "\n",
    "print(f.name)#to print the name of the file \n",
    "print(f.mode)#to print the mode the file is opened with \n",
    "print(f.closed) #to know whether the file is closed or not, it gives a true or false for this one \n",
    "f.close()\n",
    "\n",
    "\n",
    "with open (r'C:\\Users\\Help\\Desktop\\textfile.txt','r') as f:\n",
    "#we open the file but this format iwll close the file without the need for us to close it at the end \n",
    "    f_contents = f.readlines()\n",
    "    f_contents = f.read()\n",
    "    f_contents = f.readline()\n",
    "    f_contents = f.read(100) #to read a certain line \n",
    "pass #this pass closes the file already and no operation is complete because the is closed already \n",
    "\n",
    "\n",
    "\n"
   ]
  },
  {
   "cell_type": "markdown",
   "id": "62cfe08b",
   "metadata": {},
   "source": [
    "# Big File Objects "
   ]
  },
  {
   "cell_type": "code",
   "execution_count": 35,
   "id": "f8a805d6",
   "metadata": {},
   "outputs": [
    {
     "ename": "SyntaxError",
     "evalue": "invalid syntax (<ipython-input-35-dcd9f1a51665>, line 1)",
     "output_type": "error",
     "traceback": [
      "\u001b[1;36m  File \u001b[1;32m\"<ipython-input-35-dcd9f1a51665>\"\u001b[1;36m, line \u001b[1;32m1\u001b[0m\n\u001b[1;33m    with open('r'C:\\Users\\Help\\Desktop\\textfile.txt','r') as f:\u001b[0m\n\u001b[1;37m                 ^\u001b[0m\n\u001b[1;31mSyntaxError\u001b[0m\u001b[1;31m:\u001b[0m invalid syntax\n"
     ]
    }
   ],
   "source": [
    "with open('r'C:\\Users\\Help\\Desktop\\textfile.txt','r') as f:\n",
    "          size to read = 10\n",
    "          f_contents = f.read(size to read) # it reads the 100 characters in the file \n",
    "          print(f_contents, end = *)\n",
    "          \n",
    "          print(f.tell()) #this tells the rate the code read through the info in the program; it should be 10 characters \n",
    "          while len(f_contents)>0: \n",
    "              print(f_contents= '')\n",
    "              f_contents = f.read(size_to_read)\n"
   ]
  },
  {
   "cell_type": "markdown",
   "id": "e9010ff0",
   "metadata": {},
   "source": [
    "# Write to File"
   ]
  },
  {
   "cell_type": "code",
   "execution_count": 36,
   "id": "4f9625c3",
   "metadata": {},
   "outputs": [
    {
     "ename": "SyntaxError",
     "evalue": "invalid syntax (<ipython-input-36-36d4a6dec97a>, line 1)",
     "output_type": "error",
     "traceback": [
      "\u001b[1;36m  File \u001b[1;32m\"<ipython-input-36-36d4a6dec97a>\"\u001b[1;36m, line \u001b[1;32m1\u001b[0m\n\u001b[1;33m    with open('r'C:\\Users\\Help\\Desktop\\textfile.txt','w') as f:\u001b[0m\n\u001b[1;37m                 ^\u001b[0m\n\u001b[1;31mSyntaxError\u001b[0m\u001b[1;31m:\u001b[0m invalid syntax\n"
     ]
    }
   ],
   "source": [
    "with open('r'C:\\Users\\Help\\Desktop\\textfile.txt','w') as f:\n",
    "          f.write(\"Test\")\n",
    "          f.seek(0) #this can be confusing, know about the use cases?\n",
    "          \n"
   ]
  },
  {
   "cell_type": "code",
   "execution_count": 51,
   "id": "4fc15c96",
   "metadata": {},
   "outputs": [
    {
     "name": "stdout",
     "output_type": "stream",
     "text": [
      "['Banana', 'Apples', 'Cherry']\n",
      "['Banana', 'Apples', 'Cherry', 'Lemon']\n",
      "Lemon\n",
      "Banana\n",
      "Apples\n",
      "Cherry\n",
      "Lemon\n",
      "yes\n",
      "['Banana', 'Apples', 'Blueberry', 'Cherry', 'Lemon']\n",
      "Lemon\n",
      "['Banana', 'Apples', 'Blueberry', 'Cherry']\n",
      "None\n",
      "['Apples', 'Blueberry', 'Cherry']\n",
      "[]\n",
      "[]\n",
      "[]\n"
     ]
    }
   ],
   "source": [
    "my_list = [\"Banana\", \"Apples\", \"Cherry\"]\n",
    "print(my_list)\n",
    "\n",
    "my_list.append(\"Lemon\") #this is to append to the list\n",
    "print(my_list)\n",
    "\n",
    "item = my_list[-1] #accessing an item\n",
    "print(item)\n",
    "\n",
    "for i in my_list: \n",
    "    print(i)\n",
    "    \n",
    "if \"Banana\" in my_list: #to check whether a spesfific item is inside the list\n",
    "    print(\"yes\")\n",
    "else: \n",
    "    print(\"no\")\n",
    "    \n",
    "\n",
    "my_list.insert(2, \"Blueberry\") #this is to append an item to the list at a spesific index location \n",
    "print(my_list)\n",
    "\n",
    "item_ = my_list.pop() #this is to remove an item from the end of the list \n",
    "print (item_)\n",
    "print (my_list)\n",
    "\n",
    "\n",
    "item__ = my_list.remove(\"Banana\") #this to remove a spescified item from the list \n",
    "print (item__)\n",
    "print (my_list)\n",
    "\n",
    "\n",
    "my_list. clear() #to clear out the whole list \n",
    "my_list.reverse() #this is useful for numbers (we can sort thrn reverse to have them in decesding order)\n",
    "\n",
    "new_list = sorted (my_list) #to sort a list, it would have been conveninet if it is just numbers\n",
    "print (my_list)\n",
    "print (new_list)\n",
    "\n",
    "mylist = list() #using the list function to have an empty list that we can append to later on \n",
    "print(mylist)\n",
    "\n"
   ]
  },
  {
   "cell_type": "code",
   "execution_count": 60,
   "id": "9083de48",
   "metadata": {},
   "outputs": [
    {
     "name": "stdout",
     "output_type": "stream",
     "text": [
      "[0, 0, 0, 0, 0]\n",
      "[0, 0, 0, 0, 0, 1, 2, 3, 4, 5]\n",
      "[2, 3, 4, 5]\n",
      "[1, 3, 5]\n",
      "[5, 4, 3, 2, 1]\n"
     ]
    }
   ],
   "source": [
    "# mylist = [0]*5 # this is to have the items repeated in the list as much as you want \n",
    "print(mylist)\n",
    "\n",
    "mylist1 = [1,2,3,4,5]\n",
    "\n",
    "newlist = mylist + mylist1 # to conqur two lists at a time \n",
    "print(newlist)\n",
    "\n",
    "mylist1[1:] #this is slicing, we can also equal it to a variable so when we print it it is easier \n",
    "a = mylist1[1:]\n",
    "print (a) # using the variable obligates you to ask for the printing. \n",
    "\n",
    "\n",
    "mylist1[::2]  \n",
    "b = mylist1[::2] #this picks up every second item in the list \n",
    "print (b) # using the variable obligates you to ask for the printing. \n",
    "\n",
    "mylist1[::-1]  \n",
    "c = mylist1[::-1] #htis reverses the whole thing  picks up every second item in the list \n",
    "print (c) # using the variable obligates you to ask for the printing. \n"
   ]
  },
  {
   "cell_type": "markdown",
   "id": "9d87f6de",
   "metadata": {},
   "source": [
    "# Advanced Tuples "
   ]
  },
  {
   "cell_type": "code",
   "execution_count": 73,
   "id": "c01f69fa",
   "metadata": {},
   "outputs": [
    {
     "name": "stdout",
     "output_type": "stream",
     "text": [
      "('Max', '2008', 'Austin')\n",
      "<class 'tuple'>\n",
      "('Sarah',)\n",
      "Max\n",
      "2008\n",
      "Austin\n",
      "Yes\n",
      "5\n",
      "1\n",
      "2\n",
      "['a', 'b', 'c', 'd', 'f']\n",
      "('a', 'b', 'c', 'd', 'f')\n",
      "Max\n",
      "2008\n",
      "Austin\n",
      "0\n",
      "4\n",
      "[1, 2, 3]\n"
     ]
    }
   ],
   "source": [
    "mytuple = (\"Max\", \"2008\", \"Austin\") #if we remove the preantheses, then it still be recognized as a tuple \n",
    "print(mytuple)\n",
    "\n",
    "mytuple_ = (\"Sarah\", )#if we only have one item, we should leave a comma at the end of the tuple before clsoing with the peranthese\n",
    "print(type(mytuple_)) #to identify the type of the mode \n",
    "print(mytuple_)\n",
    "\n",
    "for i in mytuple: \n",
    "    print(i)\n",
    "    \n",
    "if \"Max\" in mytuple: #to check if an item is inside my tuple\n",
    "    print(\"Yes\")\n",
    "else: \n",
    "    print(\"No\")\n",
    "    \n",
    "    \n",
    "my_tuple = ('a', 'b', 'c', 'd', 'f')\n",
    "print(len(my_tuple)) #the length of the tuple\n",
    "print(my_tuple.count('c')) #the count of spesific items\n",
    "print(my_tuple.index('c')) #the index of spesific items\n",
    "\n",
    "\n",
    "my_list = list(my_tuple) #to convert tuples to list and vice versa \n",
    "print(my_list)\n",
    "\n",
    "my_tuple2= tuple(my_list)\n",
    "print(my_tuple2)\n",
    "\n",
    "\n",
    "name, age, city = mytuple # this is for tuple characterization \n",
    "print(name)\n",
    "print(age)\n",
    "print(city)\n",
    "\n",
    "myytuple= (0,1,2,3,4)\n",
    "i1, *i2, i3 = myytuple\n",
    "print(i1)\n",
    "print(i3)\n",
    "print(i2)"
   ]
  }
 ],
 "metadata": {
  "kernelspec": {
   "display_name": "Python 3",
   "language": "python",
   "name": "python3"
  },
  "language_info": {
   "codemirror_mode": {
    "name": "ipython",
    "version": 3
   },
   "file_extension": ".py",
   "mimetype": "text/x-python",
   "name": "python",
   "nbconvert_exporter": "python",
   "pygments_lexer": "ipython3",
   "version": "3.8.8"
  }
 },
 "nbformat": 4,
 "nbformat_minor": 5
}
