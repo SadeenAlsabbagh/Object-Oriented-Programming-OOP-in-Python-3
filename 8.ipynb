{
 "cells": [
  {
   "cell_type": "markdown",
   "id": "56034b1e",
   "metadata": {},
   "source": [
    "# Sets "
   ]
  },
  {
   "cell_type": "code",
   "execution_count": 15,
   "id": "cc0b6de0",
   "metadata": {},
   "outputs": [
    {
     "name": "stdout",
     "output_type": "stream",
     "text": [
      "set()\n",
      "Intial blacnk set: \n",
      "set()\n",
      "\n",
      "Set with the use of string: \n",
      "{'e', 'o', 'r', 's', 'k', 'G', 'F'}\n",
      "\n",
      "Set with the use of an object: \n",
      "{'e', 'o', 'r', 's', 'k', 'G', 'F'}\n",
      "\n",
      "Set with the use of list: \n",
      "{'For', 'Geeks'}\n"
     ]
    }
   ],
   "source": [
    "# sets are an unordered collection of data type that is iterable, mutable\n",
    "# a set is different from a list is the fact that you can check if a specific element is contained in the set \n",
    "# a set is used to determine the elemtns that make up the set \n",
    "#unlike tuples and lists, sets does not allow duplicate elemtns, a set is created with {}, like a dictionary \n",
    "#only has one value for the value repeated more than once \n",
    "# set(\"string\"), prints it out in an unordered arbitary \n",
    "\n",
    "#to create an empty set that is distingushed from a dictionary \n",
    "myset = set()\n",
    "print(myset) #we can also have print(type(myset))\n",
    "\n",
    "\n",
    "\n",
    "#creating a set \n",
    "set1 = set()\n",
    "print(\"Intial blacnk set: \")\n",
    "print(set())\n",
    "\n",
    "# creating a set with the use of a string \n",
    "set11 = set(\"GeeksForGeeks\")\n",
    "print(\"\\nSet with the use of string: \")\n",
    "print(set11)\n",
    "\n",
    "#creating a set with the use of a constructor using object to store a string\n",
    "#same idea as the one before but using a string \n",
    "string = 'GeeksForGeeks'\n",
    "set111 = set(string)\n",
    "print(\"\\nSet with the use of an object: \")\n",
    "print(set111)\n",
    "\n",
    "#creating a set using a list \n",
    "#does not repeat elemnts twice \n",
    "set1111 = set ([\"Geeks\", \"For\", \"Geeks\"])\n",
    "print(\"\\nSet with the use of list: \")\n",
    "print(set1111)\n",
    "\n"
   ]
  },
  {
   "cell_type": "code",
   "execution_count": 10,
   "id": "9ea26b41",
   "metadata": {},
   "outputs": [
    {
     "name": "stdout",
     "output_type": "stream",
     "text": [
      "\n",
      "Set with the use of numbers: \n",
      "{0, 1, 2, 3, 4, 5, 6, 8}\n",
      "\n",
      "Set with mixed values\n",
      "{1, 2, 4, 5, 6, 7, 'For', 'Geeks'}\n"
     ]
    }
   ],
   "source": [
    "#creating a set with a list of numbers \n",
    "#prints them in an acsending order\n",
    "set1 = set([1,2,3,4,6,8,0,5])\n",
    "print(\"\\nSet with the use of numbers: \")\n",
    "print(set1)\n",
    "\n",
    "#creating a set with mixed values \n",
    "#numbers come first then string data types \n",
    "set11 = set([1,2,'Geeks', 5, 4,'For', 7,6])\n",
    "print(\"\\nSet with mixed values\")\n",
    "print(set11)\n",
    "\n"
   ]
  },
  {
   "cell_type": "code",
   "execution_count": 14,
   "id": "edf56340",
   "metadata": {},
   "outputs": [
    {
     "name": "stdout",
     "output_type": "stream",
     "text": [
      "Initial blank set: \n",
      "set()\n",
      "\n",
      "Set after addition of three elements: \n",
      "{8, 9, (6, 7)}\n",
      "\n",
      "Srt after addition of elements from 1-5: \n",
      "{1, 2, 3, 4, 5, 8, 9, (6, 7)}\n",
      "\n",
      "Set after addition of elements using update: \n",
      "{4, 5, (6, 7), -3, -1}\n"
     ]
    }
   ],
   "source": [
    "#add elements to sets\n",
    "set1 = set()\n",
    "print(\"Initial blank set: \")\n",
    "print(set1)\n",
    "\n",
    "\n",
    "#adding element and tuple to the set \n",
    "set1.add(8)\n",
    "set1.add(9)\n",
    "set1.add((6,7))\n",
    "print(\"\\nSet after addition of three elements: \")\n",
    "print(set1)\n",
    "\n",
    "#adding elements to the set using iterator \n",
    "for i in range (1,6): \n",
    "    set1.add(i)\n",
    "print(\"\\nSrt after addition of elements from 1-5: \")\n",
    "print(set1)\n",
    "\n",
    "#adding elements using the update function insread of the add \n",
    "set11 = set([4, 5, (6, 7)])\n",
    "set11.update([-1, -3])\n",
    "print(\"\\nSet after addition of elements using update: \")\n",
    "print(set11)"
   ]
  },
  {
   "cell_type": "code",
   "execution_count": 20,
   "id": "28e3cc3b",
   "metadata": {},
   "outputs": [
    {
     "name": "stdout",
     "output_type": "stream",
     "text": [
      "\n",
      "Intial set\n",
      "{'For', 'Geeks'}\n",
      "\n",
      "elements of set: \n",
      "For Geeks True\n"
     ]
    }
   ],
   "source": [
    "#accessing a set and its elements \n",
    "\n",
    "set1 = set([\"Geeks\", \"For\", \"Geeks\"])\n",
    "print(\"\\nIntial set\")\n",
    "print(set1)\n",
    "\n",
    "\n",
    "#accessing element uding for loop #WHAT ABOUT HTIS\n",
    "print(\"\\nelements of set: \")\n",
    "for i in set1:\n",
    "    print(i, end = \" \")\n",
    "    \n",
    "#checking the elemrnt usingg in keyword \n",
    "print(\"Geeks\" in set1)"
   ]
  },
  {
   "cell_type": "code",
   "execution_count": 25,
   "id": "b883ef5a",
   "metadata": {},
   "outputs": [
    {
     "name": "stdout",
     "output_type": "stream",
     "text": [
      "Initial Set: \n",
      "{1, 2, 3, 4, 5, 6, 7, 8, 9, 10, 11}\n",
      "\n",
      "Set after discarding two elements \n",
      "{1, 2, 3, 4, 5, 6, 7, 10, 11}\n",
      "\n",
      "Set after removing a range of elements: \n",
      "{5, 6, 7, 10, 11}\n",
      "inital Set: \n",
      "{1, 2, 3, 4, 5, 6, 7, 8, 9, 10, 11, 12}\n",
      "\n",
      "Set after popping an element: \n",
      "{2, 3, 4, 5, 6, 7, 8, 9, 10, 11, 12}\n",
      "\n",
      "Set after clearing all the elements: \n",
      "set()\n"
     ]
    }
   ],
   "source": [
    "#removing elements from the set \n",
    "set1 = set([1, 2, 3, 4, 5, 6, 7, 8, 9, 10, 11])\n",
    "print(\"Initial Set: \")\n",
    "print(set1)\n",
    "\n",
    "#removing elements from set using the remove() method \n",
    "set1.remove(8)\n",
    "set1.remove(9)\n",
    "print(\"\\nSet after discarding two elements \")\n",
    "print(set1)\n",
    "\n",
    "#removing elemtns from set using itrerator  method \n",
    "for i in range (1, 5): \n",
    "    set1.remove(i)\n",
    "print(\"\\nSet after removing a range of elements: \")\n",
    "print(set1)\n",
    "\n",
    "\n",
    "#removing elements using pop (wich only deltes the first element)\n",
    "set11 = set([1, 2, 3, 4, 5, 6, 7, 8, 9, 10, 11, 12]) #alawys have it in a list \n",
    "print(\"inital Set: \")\n",
    "print(set11)\n",
    "\n",
    "set11.pop() #deltee the first element \n",
    "print(\"\\nSet after popping an element: \")\n",
    "print(set11)\n",
    "\n",
    "\n",
    "#using the clear() method \n",
    "set11.clear()\n",
    "print(\"\\nSet after clearing all the elements: \")\n",
    "print(set11)"
   ]
  },
  {
   "cell_type": "markdown",
   "id": "9ab5ec62",
   "metadata": {},
   "source": [
    "# freezing sets"
   ]
  },
  {
   "cell_type": "code",
   "execution_count": 28,
   "id": "1cb54bdc",
   "metadata": {},
   "outputs": [
    {
     "name": "stdout",
     "output_type": "stream",
     "text": [
      "The frozenset is: \n",
      "frozenset({'k', 'o', 'G', 'r', 'e', 'F', 's'})\n",
      "\n",
      "Empty FrozenSet: \n",
      "frozenset()\n"
     ]
    }
   ],
   "source": [
    "#freezing sets are immutable objects that only supports methods and operators that produce a result without affecting the frozen set \n",
    "#if no perameters are passed, the function returns an empty frozenset \n",
    "\n",
    "string = ('G', 'e', 'e', 'k', 's', 'F', 'o', 'r')\n",
    "\n",
    "Fset1 = frozenset(string)\n",
    "print(\"The frozenset is: \")\n",
    "print(Fset1) #is then put between curely brackets \n",
    "\n",
    "#to print empty frozen set and when no parameter is passed\n",
    "print(\"\\nEmpty FrozenSet: \")\n",
    "print(frozenset()) \n",
    "\n",
    "\n",
    "#there are more set methods "
   ]
  },
  {
   "cell_type": "markdown",
   "id": "5258e652",
   "metadata": {},
   "source": [
    "# Dictionaries "
   ]
  },
  {
   "cell_type": "code",
   "execution_count": 6,
   "id": "3dd889a7",
   "metadata": {},
   "outputs": [
    {
     "ename": "TypeError",
     "evalue": "'str' object is not callable",
     "output_type": "error",
     "traceback": [
      "\u001b[1;31m---------------------------------------------------------------------------\u001b[0m",
      "\u001b[1;31mTypeError\u001b[0m                                 Traceback (most recent call last)",
      "\u001b[1;32m<ipython-input-6-acb3967db694>\u001b[0m in \u001b[0;36m<module>\u001b[1;34m\u001b[0m\n\u001b[0;32m      4\u001b[0m \u001b[1;31m#creating a dictionary with integer keys\u001b[0m\u001b[1;33m\u001b[0m\u001b[1;33m\u001b[0m\u001b[1;33m\u001b[0m\u001b[0m\n\u001b[0;32m      5\u001b[0m \u001b[0mDict\u001b[0m \u001b[1;33m=\u001b[0m \u001b[1;33m{\u001b[0m\u001b[1;36m1\u001b[0m\u001b[1;33m:\u001b[0m \u001b[1;34m'Geeks'\u001b[0m\u001b[1;33m,\u001b[0m \u001b[1;36m2\u001b[0m\u001b[1;33m:\u001b[0m \u001b[1;34m'For'\u001b[0m\u001b[1;33m,\u001b[0m \u001b[1;36m3\u001b[0m\u001b[1;33m:\u001b[0m \u001b[1;34m'Geeks'\u001b[0m\u001b[1;33m}\u001b[0m\u001b[1;33m\u001b[0m\u001b[1;33m\u001b[0m\u001b[0m\n\u001b[1;32m----> 6\u001b[1;33m \u001b[0mprint\u001b[0m\u001b[1;33m(\u001b[0m\u001b[1;34m\"\\nDictionary with tthe use of Integer Keys: \"\u001b[0m\u001b[1;33m)\u001b[0m\u001b[1;33m\u001b[0m\u001b[1;33m\u001b[0m\u001b[0m\n\u001b[0m\u001b[0;32m      7\u001b[0m \u001b[0mprint\u001b[0m\u001b[1;33m(\u001b[0m\u001b[0mDict\u001b[0m\u001b[1;33m)\u001b[0m \u001b[1;31m# it is assigned to a vlaye to key pair\u001b[0m\u001b[1;33m\u001b[0m\u001b[1;33m\u001b[0m\u001b[0m\n\u001b[0;32m      8\u001b[0m \u001b[1;33m\u001b[0m\u001b[0m\n",
      "\u001b[1;31mTypeError\u001b[0m: 'str' object is not callable"
     ]
    }
   ],
   "source": [
    "#unordered collection of data values, used to store data values like a map.\n",
    "#holds a key:value pair \n",
    "\n",
    "#creating a dictionary with integer keys \n",
    "Dict = {1: 'Geeks', 2: 'For', 3: 'Geeks'}\n",
    "print(\"\\nDictionary with tthe use of Integer Keys: \")\n",
    "print(Dict) # it is assigned to a vlaye to key pair \n",
    "\n",
    "#creating a dictionary with mixed keys \n",
    "Dictt = {'Name': 'Geeks', 1: [1,2,3,4]}\n",
    "print(\"\\nDictionary with the use of Mixed keys: \")\n",
    "print(Dictt) #it is written with the curely brackets \n",
    "\n",
    "#creating an empty dictionary \n",
    "Dicttt = {}\n",
    "print(\"\\nEmpty Dictionary: \")\n",
    "print(Dicttt)\n",
    "\n",
    "#creating a dictionary with a dict() method \n",
    "Dit = dict({1: 'Geeks', 2:'For', 3: 'Geeks'}) #what is the point of this, uncallable \n",
    "print(\"\\nDictionary with the use of dict(): \")\n",
    "print(Dit)\n",
    "\n",
    "#creating a dictionary with each item as a pair \n",
    "dictt = dict([(1, 'Geeks'), (2, 'For')]) #as a pair from a normal dictionary list \n",
    "print(\"\\nDictionary with each item as a pair: \")\n",
    "print(dictt)\n",
    "\n"
   ]
  },
  {
   "cell_type": "markdown",
   "id": "460fba6d",
   "metadata": {},
   "source": [
    "# Nested Dictionaries "
   ]
  },
  {
   "cell_type": "code",
   "execution_count": 2,
   "id": "14a7152f",
   "metadata": {},
   "outputs": [
    {
     "name": "stdout",
     "output_type": "stream",
     "text": [
      "{1: 'Geeks', 2: 'For', 3: {'A': 'Welcome', 'B': 'To', 'C': 'Geeks'}}\n"
     ]
    }
   ],
   "source": [
    "#nested is when one of the keys within a list of values has not only one value, has multiple and further expands on other values \n",
    "\n",
    "#creating a nested dicitonary \n",
    "Dict = {1: 'Geeks', 2: 'For', \n",
    "       3:{'A': 'Welcome', 'B' : 'To', 'C' : 'Geeks'}}\n",
    "\n",
    "print(Dict)\n"
   ]
  },
  {
   "cell_type": "markdown",
   "id": "c57b541b",
   "metadata": {},
   "source": [
    "# addtion elements to a dictionary "
   ]
  },
  {
   "cell_type": "code",
   "execution_count": 6,
   "id": "8eb7b150",
   "metadata": {},
   "outputs": [
    {
     "name": "stdout",
     "output_type": "stream",
     "text": [
      "Empty dictionary: \n",
      "{}\n",
      "\n",
      "Addtion of three elements to dictionary:\n",
      "{0: 'Geeks', 2: 'for', 3: 1}\n",
      "\n",
      "Dictionary after adding three elemtns: \n",
      "{0: 'Geeks', 2: 'for', 3: 1, 'Value_set': (2, 3, 4)}\n",
      "\n",
      "Updated key value: \n",
      "{0: 'Geeks', 2: 'Welcome', 3: 1, 'Value_set': (2, 3, 4)}\n",
      "\n",
      "Adding a Nested Key: \n",
      "{0: 'Geeks', 2: 'Welcome', 3: 1, 'Value_set': (2, 3, 4), 5: {'Nested': {'1': 'Life', '2': 'Geeks'}}}\n"
     ]
    }
   ],
   "source": [
    "#adding an enpty dic\n",
    "Dict = {}\n",
    "print(\"Empty dictionary: \")\n",
    "print(Dict)\n",
    "\n",
    "#adding elemtns one at a time \n",
    "Dict[0]= 'Geeks'\n",
    "Dict[2] = 'for'\n",
    "Dict[3] = int(1)\n",
    "print('\\nAddtion of three elements to dictionary:')\n",
    "print(Dict)\n",
    "\n",
    "#adding set of value to a single key\n",
    "Dict['Value_set'] = 2, 3, 4\n",
    "print(\"\\nDictionary after adding three elemtns: \")\n",
    "print(Dict)\n",
    "\n",
    "#updating existing Key's value \n",
    "Dict[2] = 'Welcome'\n",
    "print(\"\\nUpdated key value: \")\n",
    "print(Dict)\n",
    "\n",
    "#adding Nested key value to dictionary \n",
    "Dict[5] = {'Nested' : {'1' : 'Life', '2' : 'Geeks'}}\n",
    "print(\"\\nAdding a Nested Key: \")\n",
    "print(Dict)"
   ]
  },
  {
   "cell_type": "markdown",
   "id": "ca874442",
   "metadata": {},
   "source": [
    "# acessing elemtns from the dictionary"
   ]
  },
  {
   "cell_type": "code",
   "execution_count": 3,
   "id": "9077a4b3",
   "metadata": {},
   "outputs": [
    {
     "name": "stdout",
     "output_type": "stream",
     "text": [
      "Accessing an element using key: \n",
      "For\n",
      "Accessing elemrnt using key: \n",
      "Geeks\n",
      "Accessing a element using get: \n",
      "Geeks\n"
     ]
    },
    {
     "ename": "KeyError",
     "evalue": "'Dict1'",
     "output_type": "error",
     "traceback": [
      "\u001b[1;31m---------------------------------------------------------------------------\u001b[0m",
      "\u001b[1;31mKeyError\u001b[0m                                  Traceback (most recent call last)",
      "\u001b[1;32m<ipython-input-3-edb8f96e69c4>\u001b[0m in \u001b[0;36m<module>\u001b[1;34m\u001b[0m\n\u001b[0;32m     16\u001b[0m Dictt = {'Dict1': {1:'Geeks'}, \n\u001b[0;32m     17\u001b[0m         'Dict2': {'Name':'For'}}\n\u001b[1;32m---> 18\u001b[1;33m \u001b[0mprint\u001b[0m \u001b[1;33m(\u001b[0m\u001b[0mDict\u001b[0m\u001b[1;33m[\u001b[0m\u001b[1;34m'Dict1'\u001b[0m\u001b[1;33m]\u001b[0m\u001b[1;33m)\u001b[0m\u001b[1;33m\u001b[0m\u001b[1;33m\u001b[0m\u001b[0m\n\u001b[0m\u001b[0;32m     19\u001b[0m \u001b[0mprint\u001b[0m\u001b[1;33m(\u001b[0m\u001b[0mDict\u001b[0m\u001b[1;33m[\u001b[0m\u001b[1;34m'Dict1'\u001b[0m\u001b[1;33m[\u001b[0m\u001b[1;36m1\u001b[0m\u001b[1;33m]\u001b[0m\u001b[1;33m]\u001b[0m\u001b[1;33m)\u001b[0m\u001b[1;33m\u001b[0m\u001b[1;33m\u001b[0m\u001b[0m\n\u001b[0;32m     20\u001b[0m \u001b[0mprint\u001b[0m\u001b[1;33m(\u001b[0m\u001b[0mDict\u001b[0m\u001b[1;33m[\u001b[0m\u001b[1;34m'Dict2'\u001b[0m\u001b[1;33m]\u001b[0m\u001b[1;33m[\u001b[0m\u001b[1;34m'Name'\u001b[0m\u001b[1;33m]\u001b[0m\u001b[1;33m)\u001b[0m\u001b[1;33m\u001b[0m\u001b[1;33m\u001b[0m\u001b[0m\n",
      "\u001b[1;31mKeyError\u001b[0m: 'Dict1'"
     ]
    }
   ],
   "source": [
    "#creating a dictionary \n",
    "Dict = {1: 'Geeks', 'Name' : 'For', 3: 'Geeks' }\n",
    "\n",
    "print(\"Accessing an element using key: \")\n",
    "print(Dict['Name'])\n",
    "\n",
    "#acessing elelemtn using key\n",
    "print(\"Accessing elemrnt using key: \")\n",
    "print(Dict[1])\n",
    "\n",
    "#accessing eleemnts using get()\n",
    "print(\"Accessing a element using get: \")\n",
    "print(Dict.get(3))\n",
    "\n",
    "#accessing an element of a nested dictionary #using key\n",
    "Dictt = {'Dict1': {1:'Geeks'}, \n",
    "        'Dict2': {'Name':'For'}}\n",
    "print (Dict['Dict1'])\n",
    "print(Dict['Dict1'[1]])\n",
    "print(Dict['Dict2']['Name'])"
   ]
  },
  {
   "cell_type": "markdown",
   "id": "52e6d312",
   "metadata": {},
   "source": [
    "# removing elements from dictionary "
   ]
  },
  {
   "cell_type": "code",
   "execution_count": 7,
   "id": "339742f5",
   "metadata": {},
   "outputs": [
    {
     "name": "stdout",
     "output_type": "stream",
     "text": [
      "intial dictionary: \n",
      "{5: 'Welcome', 6: 'To', 7: 'Geeks', 'A': {1: 'Geeks', 2: 'For', 3: 'Geeks'}, 'B': {1: 'Geeks', 2: 'Life'}}\n",
      "\n",
      "deleting a spesfici elemetn from the intial dictionary: \n",
      "{5: 'Welcome', 7: 'Geeks', 'A': {1: 'Geeks', 2: 'For', 3: 'Geeks'}, 'B': {1: 'Geeks', 2: 'Life'}}\n",
      "\n",
      "deleting a key from a nested dictionary: \n",
      "{5: 'Welcome', 7: 'Geeks', 'A': {1: 'Geeks', 3: 'Geeks'}, 'B': {1: 'Geeks', 2: 'Life'}}\n"
     ]
    }
   ],
   "source": [
    "#intial dictinary \n",
    "Dict = {5:'Welcome', 6:'To', 7:'Geeks', \n",
    "       'A':{1 :'Geeks', 2:'For', 3:'Geeks'}, \n",
    "       'B':{1:'Geeks', 2:'Life'}}\n",
    "\n",
    "print(\"intial dictionary: \")\n",
    "print(Dict)\n",
    "\n",
    "#deleting a key eleemtn \n",
    "del Dict[6]\n",
    "print(\"\\ndeleting a spesfici elemetn from the intial dictionary: \")\n",
    "print(Dict)\n",
    "\n",
    "#deleting a key from the nested dictionary \n",
    "del Dict['A'][2] #delete the option 2 from the key A \n",
    "print(\"\\ndeleting a key from a nested dictionary: \")\n",
    "print(Dict)"
   ]
  },
  {
   "cell_type": "markdown",
   "id": "2e84be94",
   "metadata": {},
   "source": [
    "# Popping Items"
   ]
  },
  {
   "cell_type": "code",
   "execution_count": 9,
   "id": "4447d02d",
   "metadata": {},
   "outputs": [
    {
     "name": "stdout",
     "output_type": "stream",
     "text": [
      "\n",
      "dictionaryt after deletion: {1: 'Geeks', 'name': 'for'}\n",
      "The arbitary pair returned is: (3, 'Geeks')\n"
     ]
    }
   ],
   "source": [
    "Dict = {1: 'Geeks', 'name': 'for', 3:'Geeks'}\n",
    "\n",
    "#deleting an arbiritya key using the popitem ( ) functino \n",
    "pop_ele = Dict.popitem()\n",
    "print(\"\\ndictionaryt after deletion: \" + str (Dict))\n",
    "print(\"The arbitary pair returned is: \" + str(pop_ele)) #the pop. deletes the lAT ITEM ALWAYS \n",
    "\n",
    "# WE CAN ALSO IDENTIFY WHICH KEY TO VALUE WE WANT TO POP EXACTLY INSTEAD OF THE LAST KEY BY \n",
    "# Dict.pop(1) indicating which key exactly \n",
    "\n",
    "\n",
    "#sets and dictionary are unordered lists "
   ]
  },
  {
   "cell_type": "markdown",
   "id": "87c9fb1f",
   "metadata": {},
   "source": [
    "# the Break function "
   ]
  },
  {
   "cell_type": "code",
   "execution_count": 16,
   "id": "901f36cb",
   "metadata": {},
   "outputs": [
    {
     "name": "stdout",
     "output_type": "stream",
     "text": [
      "4\n",
      "3\n",
      "loop is finished\n",
      "\n",
      "4\n",
      "3\n",
      "1\n",
      "0\n",
      "loop is finished\n"
     ]
    }
   ],
   "source": [
    "n = 5 \n",
    "while n>0: \n",
    "    n = n-1 \n",
    "    if n ==2: #it break at n ==2, it breaks out of the code \n",
    "        break \n",
    "    print(n)\n",
    "print(\"loop is finished\\n\")\n",
    "\n",
    "\n",
    "n = 5 \n",
    "while n>0: \n",
    "    n = n-1 \n",
    "    if n ==2: #it continues until it gets to 2==2, it continues and does not reach to print in.\n",
    "        continue \n",
    "    print(n)\n",
    "print(\"loop is finished\")"
   ]
  },
  {
   "cell_type": "markdown",
   "id": "cc073bdf",
   "metadata": {},
   "source": [
    "# Sets and its set functions "
   ]
  },
  {
   "cell_type": "code",
   "execution_count": 30,
   "id": "e2ae78aa",
   "metadata": {},
   "outputs": [
    {
     "name": "stdout",
     "output_type": "stream",
     "text": [
      "{0, 1, 2, 3, 4, 5, 6, 7, 8, 9}\n",
      "set()\n",
      "{4, 5, 6, 7, 8, 9}\n",
      "{4, 5, 6, 7, 8, 9, 10, 11, 12}\n",
      "{1, 2, 3, 4, 5, 6, 7, 8, 9, 10, 11, 12}\n",
      "{1, 2, 3, 10, 11, 12}\n",
      "set()\n",
      "set()\n",
      "True\n",
      "True\n",
      "True\n"
     ]
    }
   ],
   "source": [
    "#unions with sets \n",
    "odds = {1, 3, 5, 7, 9}\n",
    "evens = {0, 2, 4, 6, 8}\n",
    "primes = {2, 3, 5, 7}\n",
    "\n",
    "u = odds.union(evens) #the union is between odds and evens with no duplication \n",
    "print (u)\n",
    "\n",
    "\n",
    "i = odds.intersection(evens) #intersection between two sets, what intersect between two sets \n",
    "print(i) #it is empty because there is no values that intersect between both sets \n",
    "\n",
    "\n",
    "#difference method\n",
    "setA = {1, 2, 3, 4, 5, 6, 7, 8, 9}\n",
    "setB = {1, 2, 3, 10, 11, 12}\n",
    "\n",
    "diff = setA.difference(setB) #what is the diffence between set a to b \n",
    "print(diff)\n",
    "\n",
    "dif = setB.symmetric_difference(setA) #it accounts for all differences in the sets to compare \n",
    "print(dif)\n",
    "\n",
    "\n",
    "#combining two sets into one set with no duplication \n",
    "setA.update(setB)\n",
    "print(setA)\n",
    "\n",
    "setA.intersection_update(setB) #update the set by only putting the elements shared between both sets into one set \n",
    "print(setA)\n",
    "\n",
    "setA.difference_update(setB)#removes what is shared between the sets and only prints setA \n",
    "print(setA)\n",
    "\n",
    "#setA.symmatric_difference_update(setB) #only has the values that are not shared in both sets and added to setA \n",
    "print(setA)\n",
    "\n",
    "\n",
    "print(setA.issubset(setB)) # all the lements in the setA are not in setB as well ? \n",
    "\n",
    "print(setB.issuperset(setA)) #true bc they have a nul intersections \n",
    "\n",
    "\n",
    "print(setA.isdisjoint(setB)) # it should return to false if they have same elements \n",
    "\n"
   ]
  },
  {
   "cell_type": "code",
   "execution_count": 4,
   "id": "15027365",
   "metadata": {},
   "outputs": [
    {
     "name": "stdout",
     "output_type": "stream",
     "text": [
      "{'name': 'Max', 'Age': 28, 'city': 'New York'}\n",
      "28\n",
      "{'name': 'Max', 'Age': 28, 'city': 'New York', 'email': 'alsabbaghs@beloit'}\n",
      "{'name': 'Mary', 'age': 27, 'city': 'Boston'}\n",
      "{'Age': 28, 'city': 'New York', 'email': 'alsabbaghs@beloit'}\n",
      "{'city': 'New York', 'email': 'alsabbaghs@beloit'}\n",
      "{'city': 'New York'}\n",
      "Mary\n",
      "city\n",
      "{'city': 'New York'}\n",
      "{'city': 'New York', 'email': 'alsabbaghs@'}\n",
      "{'city': 'New York', 'email': 'alsabbaghs@'}\n"
     ]
    }
   ],
   "source": [
    "mydict = {\"name\": \"Max\", \"Age\" : 28, \"city\" : \"New York\"} #key:value\n",
    "print(mydict)\n",
    "\n",
    "\n",
    "\n",
    "value = mydict[\"Age\"]\n",
    "print(value) ##WHY??\n",
    "\n",
    "#adding sth to my dictionary \n",
    "mydict[\"email\"] = \"alsabbaghs@beloit\"\n",
    "print(mydict)\n",
    "\n",
    "mydict2 = dict(name = \"Mary\", age= 27, city = \"Boston\") #chamges them into a dicitonary\n",
    "print(mydict2)\n",
    "\n",
    "#deleting items \n",
    "del mydict[\"name\"]\n",
    "print(mydict)\n",
    "\n",
    "mydict.pop(\"Age\") #we use the key \n",
    "print(mydict)\n",
    "\n",
    "mydict.popitem() #deletes the last key and value \n",
    "print(mydict)\n",
    "\n",
    "if \"name\" in mydict: \n",
    "    print(mydict[\"name\"]) #it should print out the name which is Max \n",
    "    \n",
    "\n",
    "try: \n",
    "    print(mydict2[\"name\"])\n",
    "except: \n",
    "    print(\"Error\") #if there is an exception, sth else is printed out\n",
    "    \n",
    "\n",
    "    \n",
    "for value in mydict.keys(): \n",
    "    print(value) #to print the values for keys \n",
    "\n",
    "    \n",
    "mydict_cpy = mydict\n",
    "print(mydict_cpy)\n",
    "\n",
    "mydict_cpy[\"email\"] = \"alsabbaghs@\"\n",
    "print(mydict_cpy)\n",
    "print(mydict)\n"
   ]
  },
  {
   "cell_type": "markdown",
   "id": "516b2873",
   "metadata": {},
   "source": [
    "# Python Arrays"
   ]
  },
  {
   "cell_type": "code",
   "execution_count": 15,
   "id": "e4dc1747",
   "metadata": {},
   "outputs": [
    {
     "name": "stdout",
     "output_type": "stream",
     "text": [
      "array('i', [-1, 2, 3, 4, 5])\n",
      "(1523176412016, 5)\n",
      "3\n",
      "-1\n",
      "2\n",
      "3\n",
      "4\n",
      "5\n",
      "array('i', [5, 4, 3, 2, -1])\n",
      "array('i', [5, 4, 3, 2, -1, 10])\n",
      "array('i', [5, 4, 3, -1, 10])\n",
      "-1\n",
      "1\n"
     ]
    }
   ],
   "source": [
    "\"\"\" \n",
    "an array is a collection of items stored at contagious memory locations; the main idea behind it is to store multiple items of the same type together.\n",
    "lists can be somewhat simialr to arrays, but values within an arrays is from the same type \n",
    "\n",
    "is a container that holds multiple values of the same type \n",
    "VAR = ARRAY(TYPE CODE, [ELEMENTS])\n",
    "\n",
    "\"\"\"\n",
    "from array import * \n",
    "\n",
    "arr = array('i', [-1,2,3,4,5]) #the type is integer \n",
    "print(arr)\n",
    "\n",
    "# if we had a type code of H, we get an error because we have a negative eithin the set \n",
    "\n",
    "print(arr.buffer_info())\n",
    "\n",
    "print(arr[2]) #acessing elements within array \n",
    "\n",
    "for i in arr: \n",
    "    print(i) #prints each indiviual value indtead of the values within the arrays \n",
    "\n",
    "#how to print the pointer\n",
    "\n",
    "arr.reverse()\n",
    "print(arr)\n",
    "\n",
    "arr.append(10) #just adding to the list \n",
    "print(arr)\n",
    "\n",
    "arr.remove(2)#if we have a dupliacte value, the program removees the first duplicate vulae in the list\n",
    "print(arr)\n",
    "\n",
    "print(arr[3])\n",
    "print(arr.index(4)) #indicating where they stand in the list "
   ]
  },
  {
   "cell_type": "code",
   "execution_count": null,
   "id": "4f854a33",
   "metadata": {},
   "outputs": [],
   "source": [
    "arr = array(\"i\", [])\n",
    "x = int(input(\"enter size of array\"))\n",
    "print(\"enter %d element %x\")\n",
    "for i in range (x): \n",
    "    n=int(input())\n",
    "    arr.append(n)\n",
    "print(arr)"
   ]
  },
  {
   "cell_type": "code",
   "execution_count": 2,
   "id": "7e8be6f3",
   "metadata": {},
   "outputs": [
    {
     "ename": "NameError",
     "evalue": "name 'x' is not defined",
     "output_type": "error",
     "traceback": [
      "\u001b[1;31m---------------------------------------------------------------------------\u001b[0m",
      "\u001b[1;31mNameError\u001b[0m                                 Traceback (most recent call last)",
      "\u001b[1;32m<ipython-input-2-b3ce743c00aa>\u001b[0m in \u001b[0;36m<module>\u001b[1;34m\u001b[0m\n\u001b[0;32m      1\u001b[0m \u001b[0mi\u001b[0m \u001b[1;33m=\u001b[0m \u001b[1;36m0\u001b[0m\u001b[1;33m\u001b[0m\u001b[1;33m\u001b[0m\u001b[0m\n\u001b[1;32m----> 2\u001b[1;33m \u001b[1;32mwhile\u001b[0m \u001b[0mi\u001b[0m\u001b[1;33m<\u001b[0m\u001b[0mx\u001b[0m\u001b[1;33m-\u001b[0m\u001b[1;36m1\u001b[0m\u001b[1;33m:\u001b[0m\u001b[1;33m\u001b[0m\u001b[1;33m\u001b[0m\u001b[0m\n\u001b[0m\u001b[0;32m      3\u001b[0m     \u001b[0mj\u001b[0m\u001b[1;33m=\u001b[0m \u001b[0mi\u001b[0m\u001b[1;33m+\u001b[0m\u001b[1;36m1\u001b[0m\u001b[1;33m\u001b[0m\u001b[1;33m\u001b[0m\u001b[0m\n\u001b[0;32m      4\u001b[0m     \u001b[1;32mwhile\u001b[0m \u001b[0mj\u001b[0m\u001b[1;33m<\u001b[0m\u001b[0mx\u001b[0m\u001b[1;33m:\u001b[0m\u001b[1;33m\u001b[0m\u001b[1;33m\u001b[0m\u001b[0m\n\u001b[0;32m      5\u001b[0m         \u001b[1;32mif\u001b[0m \u001b[0marr\u001b[0m\u001b[1;33m[\u001b[0m\u001b[0mi\u001b[0m\u001b[1;33m]\u001b[0m \u001b[1;33m==\u001b[0m \u001b[0marr\u001b[0m\u001b[1;33m[\u001b[0m\u001b[0mj\u001b[0m\u001b[1;33m]\u001b[0m\u001b[1;33m:\u001b[0m\u001b[1;33m\u001b[0m\u001b[1;33m\u001b[0m\u001b[0m\n",
      "\u001b[1;31mNameError\u001b[0m: name 'x' is not defined"
     ]
    }
   ],
   "source": [
    "i = 0 \n",
    "while i<x-1: \n",
    "    j= i+1\n",
    "    while j<x: \n",
    "        if arr[i] == arr[j]: \n",
    "            del arr[j]\n",
    "            x=x-1\n",
    "        j+=1\n",
    "    i+=1\n",
    "print(arr)"
   ]
  },
  {
   "cell_type": "code",
   "execution_count": 11,
   "id": "9c49eb6a",
   "metadata": {},
   "outputs": [
    {
     "name": "stdout",
     "output_type": "stream",
     "text": [
      "the new created array is:  1 2 3 \n",
      "the new created array is:  2.5 3.2 3.3 Array afte rinsertion:  1 4 2 3 \n",
      "Array afte rinsertion:  1 4 2 3 6 \n",
      "access element is:  4\n",
      "the popped element is:  "
     ]
    },
    {
     "ename": "AttributeError",
     "evalue": "module 'array' has no attribute 'pop'",
     "output_type": "error",
     "traceback": [
      "\u001b[1;31m---------------------------------------------------------------------------\u001b[0m",
      "\u001b[1;31mAttributeError\u001b[0m                            Traceback (most recent call last)",
      "\u001b[1;32m<ipython-input-11-2fa83775f112>\u001b[0m in \u001b[0;36m<module>\u001b[1;34m\u001b[0m\n\u001b[0;32m     40\u001b[0m \u001b[1;31m#removing elemtns from arry using pop() at a certain positoin\u001b[0m\u001b[1;33m\u001b[0m\u001b[1;33m\u001b[0m\u001b[1;33m\u001b[0m\u001b[0m\n\u001b[0;32m     41\u001b[0m \u001b[0mprint\u001b[0m\u001b[1;33m(\u001b[0m\u001b[1;34m\"the popped element is: \"\u001b[0m\u001b[1;33m,\u001b[0m \u001b[0mend\u001b[0m \u001b[1;33m=\u001b[0m \u001b[1;34m\" \"\u001b[0m\u001b[1;33m)\u001b[0m\u001b[1;33m\u001b[0m\u001b[1;33m\u001b[0m\u001b[0m\n\u001b[1;32m---> 42\u001b[1;33m \u001b[0mprint\u001b[0m\u001b[1;33m(\u001b[0m\u001b[0marr\u001b[0m\u001b[1;33m.\u001b[0m\u001b[0mpop\u001b[0m\u001b[1;33m(\u001b[0m\u001b[1;36m2\u001b[0m\u001b[1;33m)\u001b[0m\u001b[1;33m)\u001b[0m\u001b[1;33m\u001b[0m\u001b[1;33m\u001b[0m\u001b[0m\n\u001b[0m",
      "\u001b[1;31mAttributeError\u001b[0m: module 'array' has no attribute 'pop'"
     ]
    }
   ],
   "source": [
    "import array as arr \n",
    "a = arr.array('i', [1,2,3])\n",
    "\n",
    "#printing the orginal array \n",
    "print(\"the new created array is: \", end = \" \")\n",
    "for i in range (0, 3):\n",
    "    print(a[i], end = \" \")\n",
    "print()\n",
    "\n",
    "#creating an array with float type \n",
    "b = arr.array('d', [2.5, 3.2, 3.3])\n",
    "\n",
    "#printing the orginal array \n",
    "print(\"the new created array is: \", end = \" \")\n",
    "for i in range (0, 3): \n",
    "    print(b[i], end = \" \")\n",
    "\n",
    "    \n",
    "    \n",
    "#adding elements to the array using the insert() function \n",
    "a.insert(1, 4)\n",
    "print(\"Array afte rinsertion: \", end = \" \")\n",
    "for i in (a): \n",
    "    print(i, end = \" \")\n",
    "print()\n",
    "\n",
    "\n",
    "#using apend() function \n",
    "#append only takes one value/ element \n",
    "a.append(6)\n",
    "print(\"Array afte rinsertion: \", end = \" \")\n",
    "for i in (a): \n",
    "    print(i, end = \" \")\n",
    "print()\n",
    "\n",
    "\n",
    "#accessing elemtns in an array \n",
    "print(\"access element is: \", a[1])\n",
    "\n",
    "#removing elemtns from arry using pop() at a certain positoin \n",
    "#print(\"the popped element is: \", end = \" \")\n",
    "#print(arr.pop(2))\n",
    "\n"
   ]
  },
  {
   "cell_type": "markdown",
   "id": "f4067e77",
   "metadata": {},
   "source": [
    "# Slicing an Array "
   ]
  },
  {
   "cell_type": "code",
   "execution_count": 14,
   "id": "f152b763",
   "metadata": {},
   "outputs": [
    {
     "name": "stdout",
     "output_type": "stream",
     "text": [
      "inital array: \n",
      "1 2 3 4 5 6 7 8 9 \n",
      "\n",
      "array('i', [4, 5, 6, 7, 8])\n"
     ]
    }
   ],
   "source": [
    "import array as arr\n",
    "l= [1,2,3,4,5,6,7,8,9]\n",
    "\n",
    "a = arr.array('i', l)\n",
    "print(\"inital array: \") \n",
    "for i in (a): \n",
    "    print(i, end = \" \")\n",
    "print(\"\\n\")\n",
    "\n",
    "#using slicing, print elements using a range \n",
    "sliced = a[3:8]\n",
    "print(sliced)\n",
    "\n"
   ]
  }
 ],
 "metadata": {
  "kernelspec": {
   "display_name": "Python 3",
   "language": "python",
   "name": "python3"
  },
  "language_info": {
   "codemirror_mode": {
    "name": "ipython",
    "version": 3
   },
   "file_extension": ".py",
   "mimetype": "text/x-python",
   "name": "python",
   "nbconvert_exporter": "python",
   "pygments_lexer": "ipython3",
   "version": "3.8.8"
  }
 },
 "nbformat": 4,
 "nbformat_minor": 5
}
