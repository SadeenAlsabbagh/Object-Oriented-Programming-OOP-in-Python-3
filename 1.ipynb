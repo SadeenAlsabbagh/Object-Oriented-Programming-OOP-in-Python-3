{
 "cells": [
  {
   "cell_type": "code",
   "execution_count": 10,
   "id": "e271cf99",
   "metadata": {},
   "outputs": [
    {
     "name": "stdout",
     "output_type": "stream",
     "text": [
      "Enter the number of players: 2\n",
      "What is your name? fdfd\n",
      "Enter the score: 23\n",
      "What is your name? sfdsfds\n",
      "Enter the score: 23\n",
      "Saved to the file.\n",
      "\n",
      "\n",
      "Name: fdfd\n",
      "Score :23\n",
      "Name: sfdsfds\n",
      "Score :23\n"
     ]
    }
   ],
   "source": [
    "text_file = open(\"Clubplayers.txt\", \"w\")\n",
    "val = int(input('Enter the number of players: '))\n",
    "for x in range(val):\n",
    "    playersname= input (\"What is your name? \")\n",
    "    player_score = input('Enter the score: ')\n",
    "    text_file.write( 'Name: ' + playersname + '\\n' + 'Score :' + player_score + '\\n')\n",
    "text_file.close()\n",
    "print(\"Saved to the file.\\n\\n\")\n",
    "text_file = open('Clubplayers.txt','r')\n",
    "for x in text_file:\n",
    "    x = x.strip('\\n')\n",
    "    print(x)\n",
    "\n",
    "text_file.close()\n",
    "\n",
    "\n"
   ]
  },
  {
   "cell_type": "code",
   "execution_count": null,
   "id": "8e3c66fc",
   "metadata": {},
   "outputs": [],
   "source": []
  }
 ],
 "metadata": {
  "kernelspec": {
   "display_name": "Python 3",
   "language": "python",
   "name": "python3"
  },
  "language_info": {
   "codemirror_mode": {
    "name": "ipython",
    "version": 3
   },
   "file_extension": ".py",
   "mimetype": "text/x-python",
   "name": "python",
   "nbconvert_exporter": "python",
   "pygments_lexer": "ipython3",
   "version": "3.8.8"
  }
 },
 "nbformat": 4,
 "nbformat_minor": 5
}
