{
 "cells": [
  {
   "cell_type": "code",
   "execution_count": null,
   "id": "b51c55b7",
   "metadata": {},
   "outputs": [],
   "source": [
    "bubble sort, "
   ]
  },
  {
   "cell_type": "code",
   "execution_count": null,
   "id": "efa4ddb9",
   "metadata": {},
   "outputs": [],
   "source": []
  },
  {
   "cell_type": "code",
   "execution_count": 12,
   "id": "d5a9927d",
   "metadata": {},
   "outputs": [
    {
     "name": "stdout",
     "output_type": "stream",
     "text": [
      "Enter the number you want to search: 7\n",
      "[1, 2, 4, 5, 7]\n",
      "Search item found at index 4\n"
     ]
    }
   ],
   "source": [
    "def srt(x):\n",
    "    for a in range(len(x)-1):\n",
    "        for b in range(len(x)-1):\n",
    "            if x[b] > x[b+1]:\n",
    "                x[b],x[b+1] = x[b+1],x[b]\n",
    "    return x\n",
    "def search(a,search):\n",
    "    a = srt(a)\n",
    "    print(a)\n",
    "    low = 0 \n",
    "    high = len(a) - 1\n",
    "    mid = 0 \n",
    "    for x in range(len(a)):\n",
    "        mid = int((high + low)/2)\n",
    "        m = a[mid]\n",
    "        if search == m:\n",
    "            print('Search item found at index {}'.format(mid))\n",
    "            break\n",
    "        elif search > m:\n",
    "            low = mid + 1\n",
    "        else:\n",
    "            high = mid - 1\n",
    "    if m != search:\n",
    "        print('Item not found')\n",
    "\n",
    "lst = [7,5,1,2,4]               \n",
    "search(lst,int(input('Enter the number you want to search: ')))"
   ]
  },
  {
   "cell_type": "code",
   "execution_count": null,
   "id": "64ef141c",
   "metadata": {},
   "outputs": [],
   "source": []
  }
 ],
 "metadata": {
  "kernelspec": {
   "display_name": "Python 3",
   "language": "python",
   "name": "python3"
  },
  "language_info": {
   "codemirror_mode": {
    "name": "ipython",
    "version": 3
   },
   "file_extension": ".py",
   "mimetype": "text/x-python",
   "name": "python",
   "nbconvert_exporter": "python",
   "pygments_lexer": "ipython3",
   "version": "3.8.8"
  }
 },
 "nbformat": 4,
 "nbformat_minor": 5
}
