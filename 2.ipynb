{
 "cells": [
  {
   "cell_type": "code",
   "execution_count": 14,
   "id": "3b243afb",
   "metadata": {},
   "outputs": [
    {
     "name": "stdout",
     "output_type": "stream",
     "text": [
      "enter the quantity:22\n",
      "1742.4\n"
     ]
    }
   ],
   "source": [
    "quantity=int(input(\"enter the quantity:\"))\n",
    "price=99\n",
    "discount=0\n",
    "if quantity>=10 and quantity<=19:\n",
    "    discount=0.1\n",
    "elif quantity>=20 and quantity <=49:\n",
    "    discount=0.2\n",
    "elif quantity>=50 and quantity <=99:\n",
    "    discount=0.3\n",
    "elif quantity>=100:\n",
    "    discount=0.4\n",
    "total=price*quantity\n",
    "print(total-total*discount)"
   ]
  },
  {
   "cell_type": "code",
   "execution_count": 2,
   "id": "e38fad26",
   "metadata": {},
   "outputs": [
    {
     "name": "stdout",
     "output_type": "stream",
     "text": [
      "enter the persons weight:453\n",
      "enter the persons height:170\n",
      "Body Mass Index (BMI) is 11.02\n",
      "underweight\n"
     ]
    }
   ],
   "source": [
    "weight=float(input(\"enter the persons weight:\"))\n",
    "height=float(input(\"enter the persons height:\"))\n",
    "BMI=round(weight*703/height**2,2)\n",
    "print('Body Mass Index (BMI) is', BMI)\n",
    "if BMI<18.5:\n",
    "    print (\"underweight\")\n",
    "elif BMI>25:\n",
    "    print(\"overweight\")\n",
    "else:\n",
    "    print(\"optimal\")\n",
    "    "
   ]
  },
  {
   "cell_type": "code",
   "execution_count": null,
   "id": "8b25c4f5",
   "metadata": {},
   "outputs": [
    {
     "name": "stdout",
     "output_type": "stream",
     "text": [
      "Reboot the computer and try to connect.\n"
     ]
    }
   ],
   "source": [
    "def askUser(message):\n",
    "    print(message)\n",
    "    prompt=input(\"Did that fix the problem?\")\n",
    "    if prompt=='yes':\n",
    "        print(\"Glad to be of help.\")\n",
    "        return True\n",
    "    else:\n",
    "        return False\n",
    "\n",
    "if not askUser(\"Reboot the computer and try to connect.\"):\n",
    "    if not askUser(\"Reboot the router and try to connect.\"):\n",
    "        if not askUser(\"Make sure the cables between the router and modem are plugged in firmly\"):\n",
    "            if not askUser(\"Move the router to a new location.\"):\n",
    "                print(\"Get a new router.\")\n"
   ]
  },
  {
   "cell_type": "code",
   "execution_count": 4,
   "id": "6440d7a9",
   "metadata": {},
   "outputs": [
    {
     "name": "stdout",
     "output_type": "stream",
     "text": [
      "Bad Wi-Fi connections\n",
      "Reboot the computer and try to connect.\n",
      "Did that fix the problem?yes\n",
      "Glad to be of help.\n"
     ]
    }
   ],
   "source": [
    "print ('Bad Wi-Fi connections')\n",
    "print('Reboot the computer and try to connect.')\n",
    "if input('Did that fix the problem?')=='no':\n",
    "    print('Reboot the computer and try to connect.')\n",
    "    if input('Did that fix the problem?')=='no':\n",
    "        print('Make sure the cables between the router and modem are plugged firmly')\n",
    "        if input('Did that fix the problem?')=='no':\n",
    "            print('Move the router to a new location and try to connect')\n",
    "            if input('Did that fix the problem?')=='no':\n",
    "                print('Get a new router.')\n",
    "            else: \n",
    "                print('Glad to be of help.')\n",
    "        else:\n",
    "            print('Glad to be of help.')\n",
    "    else:\n",
    "        print('Glad to be of help.')\n",
    "else:\n",
    "    print('Glad to be of help.')\n"
   ]
  },
  {
   "cell_type": "code",
   "execution_count": null,
   "id": "b4237549",
   "metadata": {
    "collapsed": true
   },
   "outputs": [],
   "source": []
  }
 ],
 "metadata": {
  "kernelspec": {
   "display_name": "Python 3",
   "language": "python",
   "name": "python3"
  },
  "language_info": {
   "codemirror_mode": {
    "name": "ipython",
    "version": 3
   },
   "file_extension": ".py",
   "mimetype": "text/x-python",
   "name": "python",
   "nbconvert_exporter": "python",
   "pygments_lexer": "ipython3",
   "version": "3.8.8"
  }
 },
 "nbformat": 4,
 "nbformat_minor": 5
}
